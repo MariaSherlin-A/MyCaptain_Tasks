
    "def fibonacci(n):\n",
    "    fib_series = [0, 1]\n",
    "    for i in range(2, n):\n",
    "        fib_series.append(fib_series[i-1] + fib_series[i-2])\n",
    "    return fib_series[:n]\n",
    "n = int(input(\"Enter the number of Fibonacci numbers to generate: \"))\n",
    "print(\"Fibonacci sequence upto\", n, \"terms:\")\n",
    "print(fibonacci(n))\n"

