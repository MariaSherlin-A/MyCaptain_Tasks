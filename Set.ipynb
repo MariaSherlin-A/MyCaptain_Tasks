{
 "cells": [
  {
   "cell_type": "code",
   "execution_count": null,
   "metadata": {},
   "outputs": [],
   "source": [
    "# Define two sets\n",
    "E = {0, 2, 4, 6, 8}\n",
    "N = {1, 2, 3, 4, 5}\n",
    "\n",
    "# Perform set operations\n",
    "union_set = E.union(N)\n",
    "intersection_set = E.intersection(N)\n",
    "difference_set = E.difference(N)\n",
    "symmetric_difference_set = E.symmetric_difference(N)\n",
    "\n",
    "# Print the results\n",
    "print(\"Union of E and N is\", union_set)\n",
    "print(\"Intersection of E and N is\", intersection_set)\n",
    "print(\"Difference of E and N is\", difference_set)\n",
    "print(\"Symmetric difference of E and N is\", symmetric_difference_set)\n"
   ]
  }
 ],
 "metadata": {
  "language_info": {
   "name": "python"
  }
 },
 "nbformat": 4,
 "nbformat_minor": 2
}
